{
 "cells": [
  {
   "cell_type": "code",
   "execution_count": 160,
   "id": "b438f5ef",
   "metadata": {},
   "outputs": [],
   "source": [
    "import boto3\n",
    "import pandas as pd\n",
    "import io\n",
    "import numpy as np\n",
    "import matplotlib.pyplot as plt"
   ]
  },
  {
   "cell_type": "code",
   "execution_count": 89,
   "id": "0a3a102f",
   "metadata": {
    "scrolled": true
   },
   "outputs": [],
   "source": [
    "s3 = boto3.client('s3')"
   ]
  },
  {
   "cell_type": "code",
   "execution_count": 90,
   "id": "6314eaad",
   "metadata": {},
   "outputs": [
    {
     "name": "stdout",
     "output_type": "stream",
     "text": [
      "1\n",
      "2\n",
      "3\n",
      "4\n"
     ]
    }
   ],
   "source": [
    "data_lis = []\n",
    "for j in range(1, 5):\n",
    "    obj = s3.get_object(Bucket = 'myawsbucket658',Key = 'file'+str(j)+'.txt')\n",
    "    obj['Body']\n",
    "    data = ''\n",
    "    with io.FileIO('sample.txt', 'w') as file:\n",
    "        for i in obj['Body']:\n",
    "            file.write(i)\n",
    "    f = open(\"sample.txt\", \"r\")\n",
    "    data_lis.append(f.read())"
   ]
  },
  {
   "cell_type": "code",
   "execution_count": 91,
   "id": "a0b4733c",
   "metadata": {},
   "outputs": [
    {
     "data": {
      "text/plain": [
       "['A cryptocurrency is an encrypted data string that denotes a unit of currency. It is monitored and organized by a peer-to-peer network called a blockchain, which also serves as a secure ledger of transactions, e.g., buying, selling, and transferring. Unlike physical money, cryptocurrencies are decentralized, which means they are not issued by governments or other financial institutions. ',\n",
       " 'Cryptocurrencies are created (and secured) through cryptographic algorithms that are maintained and confirmed in a process called mining, where a network of computers or specialized hardware such as application-specific integrated circuits (ASICs) process and validate the transactions. The process incentivizes the miners who run the network with the cryptocurrency.',\n",
       " 'Over the last few years, cryptocurrency prices have risen and then fallen. Crypto marketplaces do not guarantee that an investor is completing a purchase or trade at the optimal price. As a result, many investors take advantage of this by using arbitrage to find the difference in price across several markets.',\n",
       " 'Decentralized cryptocurrency is produced by an entire cryptocurrency system collectively, at a rate which is defined when the system is created and which is publicly stated. In centralized banking and economic systems such as the US Federal Reserve System, corporate boards or governments control the supply of currency.[citation needed] In the case of decentralized cryptocurrency, companies or governments cannot produce new units, and have not so far provided backing for other firms, banks or corporate entities which hold asset value measured in it. The underlying technical system upon which decentralized cryptocurrencies are based was created by the group or individual known as Satoshi Nakamoto.']"
      ]
     },
     "execution_count": 91,
     "metadata": {},
     "output_type": "execute_result"
    }
   ],
   "source": [
    "data_lis"
   ]
  },
  {
   "cell_type": "code",
   "execution_count": 92,
   "id": "a343970a",
   "metadata": {},
   "outputs": [
    {
     "data": {
      "text/plain": [
       "'A cryptocurrency is an encrypted data string that denotes a unit of currency. It is monitored and organized by a peer-to-peer network called a blockchain, which also serves as a secure ledger of transactions, e.g., buying, selling, and transferring. Unlike physical money, cryptocurrencies are decentralized, which means they are not issued by governments or other financial institutions. Cryptocurrencies are created (and secured) through cryptographic algorithms that are maintained and confirmed in a process called mining, where a network of computers or specialized hardware such as application-specific integrated circuits (ASICs) process and validate the transactions. The process incentivizes the miners who run the network with the cryptocurrency.Over the last few years, cryptocurrency prices have risen and then fallen. Crypto marketplaces do not guarantee that an investor is completing a purchase or trade at the optimal price. As a result, many investors take advantage of this by using arbitrage to find the difference in price across several markets.Decentralized cryptocurrency is produced by an entire cryptocurrency system collectively, at a rate which is defined when the system is created and which is publicly stated. In centralized banking and economic systems such as the US Federal Reserve System, corporate boards or governments control the supply of currency.[citation needed] In the case of decentralized cryptocurrency, companies or governments cannot produce new units, and have not so far provided backing for other firms, banks or corporate entities which hold asset value measured in it. The underlying technical system upon which decentralized cryptocurrencies are based was created by the group or individual known as Satoshi Nakamoto.'"
      ]
     },
     "execution_count": 92,
     "metadata": {},
     "output_type": "execute_result"
    }
   ],
   "source": [
    "data = ''\n",
    "for s in data_lis:\n",
    "    data += s\n",
    "data"
   ]
  },
  {
   "cell_type": "code",
   "execution_count": 94,
   "id": "8e9ef193",
   "metadata": {},
   "outputs": [
    {
     "name": "stdout",
     "output_type": "stream",
     "text": [
      "Collecting spacy\n",
      "  Downloading spacy-3.3.0-cp36-cp36m-manylinux_2_17_x86_64.manylinux2014_x86_64.whl (6.2 MB)\n",
      "     |████████████████████████████████| 6.2 MB 4.6 MB/s            \n",
      "\u001b[?25hRequirement already satisfied: tqdm<5.0.0,>=4.38.0 in /home/ec2-user/anaconda3/envs/python3/lib/python3.6/site-packages (from spacy) (4.62.3)\n",
      "Collecting pydantic!=1.8,!=1.8.1,<1.9.0,>=1.7.4\n",
      "  Downloading pydantic-1.8.2-cp36-cp36m-manylinux2014_x86_64.whl (10.2 MB)\n",
      "     |████████████████████████████████| 10.2 MB 44.5 MB/s            \n",
      "\u001b[?25hCollecting spacy-loggers<2.0.0,>=1.0.0\n",
      "  Downloading spacy_loggers-1.0.2-py3-none-any.whl (7.2 kB)\n",
      "Collecting catalogue<2.1.0,>=2.0.6\n",
      "  Downloading catalogue-2.0.7-py3-none-any.whl (17 kB)\n",
      "Collecting blis<0.8.0,>=0.4.0\n",
      "  Downloading blis-0.7.7-cp36-cp36m-manylinux_2_17_x86_64.manylinux2014_x86_64.whl (9.9 MB)\n",
      "     |████████████████████████████████| 9.9 MB 27.3 MB/s            \n",
      "\u001b[?25hCollecting wasabi<1.1.0,>=0.9.1\n",
      "  Downloading wasabi-0.9.1-py3-none-any.whl (26 kB)\n",
      "Collecting langcodes<4.0.0,>=3.2.0\n",
      "  Downloading langcodes-3.3.0-py3-none-any.whl (181 kB)\n",
      "     |████████████████████████████████| 181 kB 55.7 MB/s            \n",
      "\u001b[?25hCollecting typer<0.5.0,>=0.3.0\n",
      "  Downloading typer-0.4.1-py3-none-any.whl (27 kB)\n",
      "Collecting cymem<2.1.0,>=2.0.2\n",
      "  Downloading cymem-2.0.6-cp36-cp36m-manylinux_2_17_x86_64.manylinux2014_x86_64.whl (35 kB)\n",
      "Collecting pathy>=0.3.5\n",
      "  Downloading pathy-0.6.1-py3-none-any.whl (42 kB)\n",
      "     |████████████████████████████████| 42 kB 100 kB/s             \n",
      "\u001b[?25hCollecting typing-extensions<4.0.0.0,>=3.7.4\n",
      "  Downloading typing_extensions-3.10.0.2-py3-none-any.whl (26 kB)\n",
      "Collecting srsly<3.0.0,>=2.4.3\n",
      "  Downloading srsly-2.4.3-cp36-cp36m-manylinux_2_17_x86_64.manylinux2014_x86_64.whl (456 kB)\n",
      "     |████████████████████████████████| 456 kB 80.1 MB/s            \n",
      "\u001b[?25hRequirement already satisfied: packaging>=20.0 in /home/ec2-user/anaconda3/envs/python3/lib/python3.6/site-packages (from spacy) (21.3)\n",
      "Requirement already satisfied: requests<3.0.0,>=2.13.0 in /home/ec2-user/anaconda3/envs/python3/lib/python3.6/site-packages (from spacy) (2.26.0)\n",
      "Requirement already satisfied: numpy>=1.15.0 in /home/ec2-user/anaconda3/envs/python3/lib/python3.6/site-packages (from spacy) (1.19.5)\n",
      "Requirement already satisfied: setuptools in /home/ec2-user/anaconda3/envs/python3/lib/python3.6/site-packages (from spacy) (49.6.0.post20210108)\n",
      "Requirement already satisfied: jinja2 in /home/ec2-user/anaconda3/envs/python3/lib/python3.6/site-packages (from spacy) (2.11.3)\n",
      "Collecting murmurhash<1.1.0,>=0.28.0\n",
      "  Downloading murmurhash-1.0.7-cp36-cp36m-manylinux_2_5_x86_64.manylinux1_x86_64.manylinux_2_17_x86_64.manylinux2014_x86_64.whl (21 kB)\n",
      "Collecting spacy-legacy<3.1.0,>=3.0.9\n",
      "  Downloading spacy_legacy-3.0.9-py2.py3-none-any.whl (20 kB)\n",
      "Collecting thinc<8.1.0,>=8.0.14\n",
      "  Downloading thinc-8.0.17-cp36-cp36m-manylinux_2_17_x86_64.manylinux2014_x86_64.whl (662 kB)\n",
      "     |████████████████████████████████| 662 kB 84.8 MB/s            \n",
      "\u001b[?25hCollecting preshed<3.1.0,>=3.0.2\n",
      "  Downloading preshed-3.0.6-cp36-cp36m-manylinux_2_5_x86_64.manylinux1_x86_64.manylinux_2_17_x86_64.manylinux2014_x86_64.whl (127 kB)\n",
      "     |████████████████████████████████| 127 kB 83.9 MB/s            \n",
      "\u001b[?25hRequirement already satisfied: zipp>=0.5 in /home/ec2-user/anaconda3/envs/python3/lib/python3.6/site-packages (from catalogue<2.1.0,>=2.0.6->spacy) (3.4.0)\n",
      "Requirement already satisfied: pyparsing!=3.0.5,>=2.0.2 in /home/ec2-user/anaconda3/envs/python3/lib/python3.6/site-packages (from packaging>=20.0->spacy) (2.4.7)\n",
      "Requirement already satisfied: dataclasses<1.0,>=0.6 in /home/ec2-user/anaconda3/envs/python3/lib/python3.6/site-packages (from pathy>=0.3.5->spacy) (0.8)\n",
      "Collecting smart-open<6.0.0,>=5.0.0\n",
      "  Downloading smart_open-5.2.1-py3-none-any.whl (58 kB)\n",
      "     |████████████████████████████████| 58 kB 11.9 MB/s            \n",
      "\u001b[?25hRequirement already satisfied: idna<4,>=2.5 in /home/ec2-user/anaconda3/envs/python3/lib/python3.6/site-packages (from requests<3.0.0,>=2.13.0->spacy) (3.1)\n",
      "Requirement already satisfied: urllib3<1.27,>=1.21.1 in /home/ec2-user/anaconda3/envs/python3/lib/python3.6/site-packages (from requests<3.0.0,>=2.13.0->spacy) (1.26.8)\n",
      "Requirement already satisfied: certifi>=2017.4.17 in /home/ec2-user/anaconda3/envs/python3/lib/python3.6/site-packages (from requests<3.0.0,>=2.13.0->spacy) (2021.5.30)\n",
      "Requirement already satisfied: charset-normalizer~=2.0.0 in /home/ec2-user/anaconda3/envs/python3/lib/python3.6/site-packages (from requests<3.0.0,>=2.13.0->spacy) (2.0.9)\n",
      "Requirement already satisfied: contextvars<3,>=2.4 in /home/ec2-user/anaconda3/envs/python3/lib/python3.6/site-packages (from thinc<8.1.0,>=8.0.14->spacy) (2.4)\n",
      "Requirement already satisfied: click<9.0.0,>=7.1.1 in /home/ec2-user/anaconda3/envs/python3/lib/python3.6/site-packages (from typer<0.5.0,>=0.3.0->spacy) (7.1.2)\n",
      "Requirement already satisfied: MarkupSafe>=0.23 in /home/ec2-user/anaconda3/envs/python3/lib/python3.6/site-packages (from jinja2->spacy) (1.1.1)\n",
      "Requirement already satisfied: immutables>=0.9 in /home/ec2-user/anaconda3/envs/python3/lib/python3.6/site-packages (from contextvars<3,>=2.4->thinc<8.1.0,>=8.0.14->spacy) (0.15)\n",
      "Installing collected packages: typing-extensions, murmurhash, cymem, catalogue, wasabi, typer, srsly, smart-open, pydantic, preshed, blis, thinc, spacy-loggers, spacy-legacy, pathy, langcodes, spacy\n",
      "  Attempting uninstall: typing-extensions\n",
      "    Found existing installation: typing-extensions 4.0.1\n",
      "    Uninstalling typing-extensions-4.0.1:\n",
      "      Successfully uninstalled typing-extensions-4.0.1\n",
      "\u001b[31mERROR: pip's dependency resolver does not currently take into account all the packages that are installed. This behaviour is the source of the following dependency conflicts.\n",
      "aiobotocore 1.3.0 requires botocore<1.20.50,>=1.20.49, but you have botocore 1.24.42 which is incompatible.\u001b[0m\n",
      "Successfully installed blis-0.7.7 catalogue-2.0.7 cymem-2.0.6 langcodes-3.3.0 murmurhash-1.0.7 pathy-0.6.1 preshed-3.0.6 pydantic-1.8.2 smart-open-5.2.1 spacy-3.3.0 spacy-legacy-3.0.9 spacy-loggers-1.0.2 srsly-2.4.3 thinc-8.0.17 typer-0.4.1 typing-extensions-3.10.0.2 wasabi-0.9.1\n",
      "Note: you may need to restart the kernel to use updated packages.\n"
     ]
    },
    {
     "name": "stderr",
     "output_type": "stream",
     "text": [
      "UsageError: Line magic function `%python` not found (But cell magic `%%python` exists, did you mean that instead?).\n"
     ]
    }
   ],
   "source": [
    "%pip install spacy"
   ]
  },
  {
   "cell_type": "code",
   "execution_count": 99,
   "id": "2911d0d7",
   "metadata": {},
   "outputs": [
    {
     "name": "stdout",
     "output_type": "stream",
     "text": [
      "Collecting en-core-web-sm==3.3.0\n",
      "  Downloading https://github.com/explosion/spacy-models/releases/download/en_core_web_sm-3.3.0/en_core_web_sm-3.3.0-py3-none-any.whl (12.8 MB)\n",
      "     |████████████████████████████████| 12.8 MB 6.0 MB/s            \n",
      "\u001b[?25hRequirement already satisfied: spacy<3.4.0,>=3.3.0.dev0 in /home/ec2-user/anaconda3/envs/python3/lib/python3.6/site-packages (from en-core-web-sm==3.3.0) (3.3.0)\n",
      "Requirement already satisfied: numpy>=1.15.0 in /home/ec2-user/anaconda3/envs/python3/lib/python3.6/site-packages (from spacy<3.4.0,>=3.3.0.dev0->en-core-web-sm==3.3.0) (1.19.5)\n",
      "Requirement already satisfied: packaging>=20.0 in /home/ec2-user/anaconda3/envs/python3/lib/python3.6/site-packages (from spacy<3.4.0,>=3.3.0.dev0->en-core-web-sm==3.3.0) (21.3)\n",
      "Requirement already satisfied: thinc<8.1.0,>=8.0.14 in /home/ec2-user/anaconda3/envs/python3/lib/python3.6/site-packages (from spacy<3.4.0,>=3.3.0.dev0->en-core-web-sm==3.3.0) (8.0.17)\n",
      "Requirement already satisfied: spacy-legacy<3.1.0,>=3.0.9 in /home/ec2-user/anaconda3/envs/python3/lib/python3.6/site-packages (from spacy<3.4.0,>=3.3.0.dev0->en-core-web-sm==3.3.0) (3.0.9)\n",
      "Requirement already satisfied: setuptools in /home/ec2-user/anaconda3/envs/python3/lib/python3.6/site-packages (from spacy<3.4.0,>=3.3.0.dev0->en-core-web-sm==3.3.0) (49.6.0.post20210108)\n",
      "Requirement already satisfied: preshed<3.1.0,>=3.0.2 in /home/ec2-user/anaconda3/envs/python3/lib/python3.6/site-packages (from spacy<3.4.0,>=3.3.0.dev0->en-core-web-sm==3.3.0) (3.0.6)\n",
      "Requirement already satisfied: jinja2 in /home/ec2-user/anaconda3/envs/python3/lib/python3.6/site-packages (from spacy<3.4.0,>=3.3.0.dev0->en-core-web-sm==3.3.0) (2.11.3)\n",
      "Requirement already satisfied: typing-extensions<4.0.0.0,>=3.7.4 in /home/ec2-user/anaconda3/envs/python3/lib/python3.6/site-packages (from spacy<3.4.0,>=3.3.0.dev0->en-core-web-sm==3.3.0) (3.10.0.2)\n",
      "Requirement already satisfied: catalogue<2.1.0,>=2.0.6 in /home/ec2-user/anaconda3/envs/python3/lib/python3.6/site-packages (from spacy<3.4.0,>=3.3.0.dev0->en-core-web-sm==3.3.0) (2.0.7)\n",
      "Requirement already satisfied: tqdm<5.0.0,>=4.38.0 in /home/ec2-user/anaconda3/envs/python3/lib/python3.6/site-packages (from spacy<3.4.0,>=3.3.0.dev0->en-core-web-sm==3.3.0) (4.62.3)\n",
      "Requirement already satisfied: requests<3.0.0,>=2.13.0 in /home/ec2-user/anaconda3/envs/python3/lib/python3.6/site-packages (from spacy<3.4.0,>=3.3.0.dev0->en-core-web-sm==3.3.0) (2.26.0)\n",
      "Requirement already satisfied: spacy-loggers<2.0.0,>=1.0.0 in /home/ec2-user/anaconda3/envs/python3/lib/python3.6/site-packages (from spacy<3.4.0,>=3.3.0.dev0->en-core-web-sm==3.3.0) (1.0.2)\n",
      "Requirement already satisfied: cymem<2.1.0,>=2.0.2 in /home/ec2-user/anaconda3/envs/python3/lib/python3.6/site-packages (from spacy<3.4.0,>=3.3.0.dev0->en-core-web-sm==3.3.0) (2.0.6)\n",
      "Requirement already satisfied: wasabi<1.1.0,>=0.9.1 in /home/ec2-user/anaconda3/envs/python3/lib/python3.6/site-packages (from spacy<3.4.0,>=3.3.0.dev0->en-core-web-sm==3.3.0) (0.9.1)\n",
      "Requirement already satisfied: typer<0.5.0,>=0.3.0 in /home/ec2-user/anaconda3/envs/python3/lib/python3.6/site-packages (from spacy<3.4.0,>=3.3.0.dev0->en-core-web-sm==3.3.0) (0.4.1)\n",
      "Requirement already satisfied: pydantic!=1.8,!=1.8.1,<1.9.0,>=1.7.4 in /home/ec2-user/anaconda3/envs/python3/lib/python3.6/site-packages (from spacy<3.4.0,>=3.3.0.dev0->en-core-web-sm==3.3.0) (1.8.2)\n",
      "Requirement already satisfied: blis<0.8.0,>=0.4.0 in /home/ec2-user/anaconda3/envs/python3/lib/python3.6/site-packages (from spacy<3.4.0,>=3.3.0.dev0->en-core-web-sm==3.3.0) (0.7.7)\n",
      "Requirement already satisfied: murmurhash<1.1.0,>=0.28.0 in /home/ec2-user/anaconda3/envs/python3/lib/python3.6/site-packages (from spacy<3.4.0,>=3.3.0.dev0->en-core-web-sm==3.3.0) (1.0.7)\n",
      "Requirement already satisfied: pathy>=0.3.5 in /home/ec2-user/anaconda3/envs/python3/lib/python3.6/site-packages (from spacy<3.4.0,>=3.3.0.dev0->en-core-web-sm==3.3.0) (0.6.1)\n",
      "Requirement already satisfied: langcodes<4.0.0,>=3.2.0 in /home/ec2-user/anaconda3/envs/python3/lib/python3.6/site-packages (from spacy<3.4.0,>=3.3.0.dev0->en-core-web-sm==3.3.0) (3.3.0)\n",
      "Requirement already satisfied: srsly<3.0.0,>=2.4.3 in /home/ec2-user/anaconda3/envs/python3/lib/python3.6/site-packages (from spacy<3.4.0,>=3.3.0.dev0->en-core-web-sm==3.3.0) (2.4.3)\n",
      "Requirement already satisfied: zipp>=0.5 in /home/ec2-user/anaconda3/envs/python3/lib/python3.6/site-packages (from catalogue<2.1.0,>=2.0.6->spacy<3.4.0,>=3.3.0.dev0->en-core-web-sm==3.3.0) (3.4.0)\n",
      "Requirement already satisfied: pyparsing!=3.0.5,>=2.0.2 in /home/ec2-user/anaconda3/envs/python3/lib/python3.6/site-packages (from packaging>=20.0->spacy<3.4.0,>=3.3.0.dev0->en-core-web-sm==3.3.0) (2.4.7)\n",
      "Requirement already satisfied: dataclasses<1.0,>=0.6 in /home/ec2-user/anaconda3/envs/python3/lib/python3.6/site-packages (from pathy>=0.3.5->spacy<3.4.0,>=3.3.0.dev0->en-core-web-sm==3.3.0) (0.8)\n",
      "Requirement already satisfied: smart-open<6.0.0,>=5.0.0 in /home/ec2-user/anaconda3/envs/python3/lib/python3.6/site-packages (from pathy>=0.3.5->spacy<3.4.0,>=3.3.0.dev0->en-core-web-sm==3.3.0) (5.2.1)\n",
      "Requirement already satisfied: charset-normalizer~=2.0.0 in /home/ec2-user/anaconda3/envs/python3/lib/python3.6/site-packages (from requests<3.0.0,>=2.13.0->spacy<3.4.0,>=3.3.0.dev0->en-core-web-sm==3.3.0) (2.0.9)\n",
      "Requirement already satisfied: urllib3<1.27,>=1.21.1 in /home/ec2-user/anaconda3/envs/python3/lib/python3.6/site-packages (from requests<3.0.0,>=2.13.0->spacy<3.4.0,>=3.3.0.dev0->en-core-web-sm==3.3.0) (1.26.8)\n",
      "Requirement already satisfied: certifi>=2017.4.17 in /home/ec2-user/anaconda3/envs/python3/lib/python3.6/site-packages (from requests<3.0.0,>=2.13.0->spacy<3.4.0,>=3.3.0.dev0->en-core-web-sm==3.3.0) (2021.5.30)\n",
      "Requirement already satisfied: idna<4,>=2.5 in /home/ec2-user/anaconda3/envs/python3/lib/python3.6/site-packages (from requests<3.0.0,>=2.13.0->spacy<3.4.0,>=3.3.0.dev0->en-core-web-sm==3.3.0) (3.1)\n",
      "Requirement already satisfied: contextvars<3,>=2.4 in /home/ec2-user/anaconda3/envs/python3/lib/python3.6/site-packages (from thinc<8.1.0,>=8.0.14->spacy<3.4.0,>=3.3.0.dev0->en-core-web-sm==3.3.0) (2.4)\n",
      "Requirement already satisfied: click<9.0.0,>=7.1.1 in /home/ec2-user/anaconda3/envs/python3/lib/python3.6/site-packages (from typer<0.5.0,>=0.3.0->spacy<3.4.0,>=3.3.0.dev0->en-core-web-sm==3.3.0) (7.1.2)\n",
      "Requirement already satisfied: MarkupSafe>=0.23 in /home/ec2-user/anaconda3/envs/python3/lib/python3.6/site-packages (from jinja2->spacy<3.4.0,>=3.3.0.dev0->en-core-web-sm==3.3.0) (1.1.1)\n",
      "Requirement already satisfied: immutables>=0.9 in /home/ec2-user/anaconda3/envs/python3/lib/python3.6/site-packages (from contextvars<3,>=2.4->thinc<8.1.0,>=8.0.14->spacy<3.4.0,>=3.3.0.dev0->en-core-web-sm==3.3.0) (0.15)\n",
      "Installing collected packages: en-core-web-sm\n",
      "Successfully installed en-core-web-sm-3.3.0\n",
      "\u001b[38;5;2m✔ Download and installation successful\u001b[0m\n",
      "You can now load the package via spacy.load('en_core_web_sm')\n"
     ]
    }
   ],
   "source": [
    "!python -m spacy download en_core_web_sm"
   ]
  },
  {
   "cell_type": "code",
   "execution_count": 113,
   "id": "a3aaf9f7",
   "metadata": {},
   "outputs": [
    {
     "data": {
      "text/plain": [
       "['A cryptocurrency is an encrypted data string that denotes a unit of currency.',\n",
       " 'It is monitored and organized by a peer-to-peer network called a blockchain, which also serves as a secure ledger of transactions, e.g., buying, selling, and transferring.',\n",
       " 'Unlike physical money, cryptocurrencies are decentralized, which means they are not issued by governments or other financial institutions.',\n",
       " 'Cryptocurrencies are created (and secured) through cryptographic algorithms that are maintained and confirmed in a process called mining, where a network of computers or specialized hardware such as application-specific integrated circuits (ASICs) process and validate the transactions.',\n",
       " 'The process incentivizes the miners who run the network with the cryptocurrency.',\n",
       " 'Over the last few years, cryptocurrency prices have risen and then fallen.',\n",
       " 'Crypto marketplaces do not guarantee that an investor is completing a purchase or trade at the optimal price.',\n",
       " 'As a result, many investors take advantage of this by using arbitrage to find the difference in price across several markets.',\n",
       " 'Decentralized cryptocurrency is produced by an entire cryptocurrency system collectively, at a rate which is defined when the system is created and which is publicly stated.',\n",
       " 'In centralized banking and economic systems such as the US Federal Reserve System, corporate boards or governments control the supply of currency.[citation needed]',\n",
       " 'In the case of decentralized cryptocurrency, companies or governments cannot produce new units, and have not so far provided backing for other firms, banks or corporate entities which hold asset value measured in it.',\n",
       " 'The underlying technical system upon which decentralized cryptocurrencies are based was created by the group or individual known as Satoshi Nakamoto.']"
      ]
     },
     "execution_count": 113,
     "metadata": {},
     "output_type": "execute_result"
    }
   ],
   "source": [
    "import spacy\n",
    "  \n",
    "nlp = spacy.load(\"en_core_web_sm\")\n",
    "  \n",
    "doc = nlp(data)\n",
    "\n",
    "sentences = []\n",
    "for sent in doc.sents:\n",
    "    sentences.append(str(sent))\n",
    "sentences"
   ]
  },
  {
   "cell_type": "code",
   "execution_count": 114,
   "id": "2f297573",
   "metadata": {},
   "outputs": [
    {
     "name": "stdout",
     "output_type": "stream",
     "text": [
      "Requirement already satisfied: nltk in /home/ec2-user/anaconda3/envs/python3/lib/python3.6/site-packages (3.4.4)\r\n",
      "Requirement already satisfied: six in /home/ec2-user/anaconda3/envs/python3/lib/python3.6/site-packages (from nltk) (1.15.0)\r\n"
     ]
    }
   ],
   "source": [
    "!pip install nltk"
   ]
  },
  {
   "cell_type": "code",
   "execution_count": 115,
   "id": "980d2410",
   "metadata": {},
   "outputs": [
    {
     "name": "stderr",
     "output_type": "stream",
     "text": [
      "[nltk_data] Downloading package punkt to /home/ec2-user/nltk_data...\n",
      "[nltk_data]   Package punkt is already up-to-date!\n",
      "[nltk_data] Downloading package stopwords to\n",
      "[nltk_data]     /home/ec2-user/nltk_data...\n",
      "[nltk_data]   Package stopwords is already up-to-date!\n"
     ]
    },
    {
     "data": {
      "text/plain": [
       "['A',\n",
       " 'cryptocurrency',\n",
       " 'encrypted',\n",
       " 'data',\n",
       " 'string',\n",
       " 'denotes',\n",
       " 'unit',\n",
       " 'currency',\n",
       " '.',\n",
       " 'It',\n",
       " 'monitored',\n",
       " 'organized',\n",
       " 'peer-to-peer',\n",
       " 'network',\n",
       " 'called',\n",
       " 'blockchain',\n",
       " ',',\n",
       " 'serves',\n",
       " 'secure',\n",
       " 'ledger',\n",
       " 'transactions',\n",
       " ',',\n",
       " 'e.g.',\n",
       " ',',\n",
       " 'buying',\n",
       " ',',\n",
       " 'selling',\n",
       " ',',\n",
       " 'transferring',\n",
       " '.',\n",
       " 'Unlike',\n",
       " 'physical',\n",
       " 'money',\n",
       " ',',\n",
       " 'cryptocurrencies',\n",
       " 'decentralized',\n",
       " ',',\n",
       " 'means',\n",
       " 'issued',\n",
       " 'governments',\n",
       " 'financial',\n",
       " 'institutions',\n",
       " '.',\n",
       " 'Cryptocurrencies',\n",
       " 'created',\n",
       " '(',\n",
       " 'secured',\n",
       " ')',\n",
       " 'cryptographic',\n",
       " 'algorithms',\n",
       " 'maintained',\n",
       " 'confirmed',\n",
       " 'process',\n",
       " 'called',\n",
       " 'mining',\n",
       " ',',\n",
       " 'network',\n",
       " 'computers',\n",
       " 'specialized',\n",
       " 'hardware',\n",
       " 'application-specific',\n",
       " 'integrated',\n",
       " 'circuits',\n",
       " '(',\n",
       " 'ASICs',\n",
       " ')',\n",
       " 'process',\n",
       " 'validate',\n",
       " 'transactions',\n",
       " '.',\n",
       " 'The',\n",
       " 'process',\n",
       " 'incentivizes',\n",
       " 'miners',\n",
       " 'run',\n",
       " 'network',\n",
       " 'cryptocurrency',\n",
       " '.',\n",
       " 'Over',\n",
       " 'last',\n",
       " 'years',\n",
       " ',',\n",
       " 'cryptocurrency',\n",
       " 'prices',\n",
       " 'risen',\n",
       " 'fallen',\n",
       " '.',\n",
       " 'Crypto',\n",
       " 'marketplaces',\n",
       " 'guarantee',\n",
       " 'investor',\n",
       " 'completing',\n",
       " 'purchase',\n",
       " 'trade',\n",
       " 'optimal',\n",
       " 'price',\n",
       " '.',\n",
       " 'As',\n",
       " 'result',\n",
       " ',',\n",
       " 'many',\n",
       " 'investors',\n",
       " 'advantage',\n",
       " 'using',\n",
       " 'arbitrage',\n",
       " 'find',\n",
       " 'difference',\n",
       " 'price',\n",
       " 'across',\n",
       " 'several',\n",
       " 'markets',\n",
       " '.',\n",
       " 'Decentralized',\n",
       " 'cryptocurrency',\n",
       " 'produced',\n",
       " 'entire',\n",
       " 'cryptocurrency',\n",
       " 'system',\n",
       " 'collectively',\n",
       " ',',\n",
       " 'rate',\n",
       " 'defined',\n",
       " 'system',\n",
       " 'created',\n",
       " 'publicly',\n",
       " 'stated',\n",
       " '.',\n",
       " 'In',\n",
       " 'centralized',\n",
       " 'banking',\n",
       " 'economic',\n",
       " 'systems',\n",
       " 'US',\n",
       " 'Federal',\n",
       " 'Reserve',\n",
       " 'System',\n",
       " ',',\n",
       " 'corporate',\n",
       " 'boards',\n",
       " 'governments',\n",
       " 'control',\n",
       " 'supply',\n",
       " 'currency',\n",
       " '.',\n",
       " '[',\n",
       " 'citation',\n",
       " 'needed',\n",
       " ']',\n",
       " 'In',\n",
       " 'case',\n",
       " 'decentralized',\n",
       " 'cryptocurrency',\n",
       " ',',\n",
       " 'companies',\n",
       " 'governments',\n",
       " 'produce',\n",
       " 'new',\n",
       " 'units',\n",
       " ',',\n",
       " 'far',\n",
       " 'provided',\n",
       " 'backing',\n",
       " 'firms',\n",
       " ',',\n",
       " 'banks',\n",
       " 'corporate',\n",
       " 'entities',\n",
       " 'hold',\n",
       " 'asset',\n",
       " 'value',\n",
       " 'measured',\n",
       " '.',\n",
       " 'The',\n",
       " 'underlying',\n",
       " 'technical',\n",
       " 'system',\n",
       " 'upon',\n",
       " 'decentralized',\n",
       " 'cryptocurrencies',\n",
       " 'based',\n",
       " 'created',\n",
       " 'group',\n",
       " 'individual',\n",
       " 'known',\n",
       " 'Satoshi',\n",
       " 'Nakamoto',\n",
       " '.']"
      ]
     },
     "execution_count": 115,
     "metadata": {},
     "output_type": "execute_result"
    }
   ],
   "source": [
    "import nltk \n",
    "from nltk.corpus import stopwords\n",
    "nltk.download('punkt')\n",
    "nltk.download('stopwords')\n",
    "from nltk.tokenize import word_tokenize\n",
    "\n",
    "tokens = []\n",
    "for sent in sentences:\n",
    "    type(sent)\n",
    "    text_tokens = word_tokenize(sent)\n",
    "    for word in text_tokens:\n",
    "        if not word in stopwords.words():\n",
    "            tokens.append(word)\n",
    "\n",
    "tokens"
   ]
  },
  {
   "cell_type": "code",
   "execution_count": 119,
   "id": "f941afbc",
   "metadata": {},
   "outputs": [
    {
     "name": "stdout",
     "output_type": "stream",
     "text": [
      "['A', 'cryptocurrency', 'encrypted', 'data', 'string', 'denotes', 'unit', 'currency', 'It', 'monitored', 'organized', 'peertopeer', 'network', 'called', 'blockchain', 'serves', 'secure', 'ledger', 'transactions', 'eg', 'buying', 'selling', 'transferring', 'Unlike', 'physical', 'money', 'cryptocurrencies', 'decentralized', 'means', 'issued', 'governments', 'financial', 'institutions', 'Cryptocurrencies', 'created', 'secured', 'cryptographic', 'algorithms', 'maintained', 'confirmed', 'process', 'called', 'mining', 'network', 'computers', 'specialized', 'hardware', 'applicationspecific', 'integrated', 'circuits', 'ASICs', 'process', 'validate', 'transactions', 'The', 'process', 'incentivizes', 'miners', 'run', 'network', 'cryptocurrency', 'Over', 'last', 'years', 'cryptocurrency', 'prices', 'risen', 'fallen', 'Crypto', 'marketplaces', 'guarantee', 'investor', 'completing', 'purchase', 'trade', 'optimal', 'price', 'As', 'result', 'many', 'investors', 'advantage', 'using', 'arbitrage', 'find', 'difference', 'price', 'across', 'several', 'markets', 'Decentralized', 'cryptocurrency', 'produced', 'entire', 'cryptocurrency', 'system', 'collectively', 'rate', 'defined', 'system', 'created', 'publicly', 'stated', 'In', 'centralized', 'banking', 'economic', 'systems', 'US', 'Federal', 'Reserve', 'System', 'corporate', 'boards', 'governments', 'control', 'supply', 'currency', 'citation', 'needed', 'In', 'case', 'decentralized', 'cryptocurrency', 'companies', 'governments', 'produce', 'new', 'units', 'far', 'provided', 'backing', 'firms', 'banks', 'corporate', 'entities', 'hold', 'asset', 'value', 'measured', 'The', 'underlying', 'technical', 'system', 'upon', 'decentralized', 'cryptocurrencies', 'based', 'created', 'group', 'individual', 'known', 'Satoshi', 'Nakamoto']\n"
     ]
    }
   ],
   "source": [
    "import string\n",
    "tokens = [''.join(c for c in s if c not in string.punctuation) for s in tokens]\n",
    "\n",
    "tokens = [s for s in tokens if s]\n",
    "print(tokens)"
   ]
  },
  {
   "cell_type": "code",
   "execution_count": 121,
   "id": "956f1907",
   "metadata": {},
   "outputs": [
    {
     "name": "stdout",
     "output_type": "stream",
     "text": [
      "['A', 'cryptocurr', 'encrypt', 'data', 'string', 'denot', 'unit', 'currenc', 'It', 'monitor', 'organ', 'peertop', 'network', 'call', 'blockchain', 'serv', 'secur', 'ledger', 'transact', 'eg', 'buy', 'sell', 'transfer', 'unlik', 'physic', 'money', 'cryptocurr', 'decentr', 'mean', 'issu', 'govern', 'financi', 'institut', 'cryptocurr', 'creat', 'secur', 'cryptograph', 'algorithm', 'maintain', 'confirm', 'process', 'call', 'mine', 'network', 'comput', 'special', 'hardwar', 'applicationspecif', 'integr', 'circuit', 'asic', 'process', 'valid', 'transact', 'the', 'process', 'incentiv', 'miner', 'run', 'network', 'cryptocurr', 'over', 'last', 'year', 'cryptocurr', 'price', 'risen', 'fallen', 'crypto', 'marketplac', 'guarante', 'investor', 'complet', 'purchas', 'trade', 'optim', 'price', 'As', 'result', 'mani', 'investor', 'advantag', 'use', 'arbitrag', 'find', 'differ', 'price', 'across', 'sever', 'market', 'decentr', 'cryptocurr', 'produc', 'entir', 'cryptocurr', 'system', 'collect', 'rate', 'defin', 'system', 'creat', 'publicli', 'state', 'In', 'central', 'bank', 'econom', 'system', 'US', 'feder', 'reserv', 'system', 'corpor', 'board', 'govern', 'control', 'suppli', 'currenc', 'citat', 'need', 'In', 'case', 'decentr', 'cryptocurr', 'compani', 'govern', 'produc', 'new', 'unit', 'far', 'provid', 'back', 'firm', 'bank', 'corpor', 'entiti', 'hold', 'asset', 'valu', 'measur', 'the', 'underli', 'technic', 'system', 'upon', 'decentr', 'cryptocurr', 'base', 'creat', 'group', 'individu', 'known', 'satoshi', 'nakamoto']\n"
     ]
    }
   ],
   "source": [
    "from nltk.stem import PorterStemmer\n",
    "from nltk.tokenize import word_tokenize\n",
    "   \n",
    "ps = PorterStemmer()\n",
    "  \n",
    "stem_tokens = []\n",
    "for w in tokens:\n",
    "    stem_tokens.append(ps.stem(w))\n",
    "print(stem_tokens)"
   ]
  },
  {
   "cell_type": "code",
   "execution_count": 184,
   "id": "00014d95",
   "metadata": {},
   "outputs": [
    {
     "data": {
      "text/plain": [
       "'A cryptocurr encrypt data string denot unit currenc It monitor organ peertop network call blockchain serv secur ledger transact eg buy sell transfer unlik physic money cryptocurr decentr mean issu govern financi institut cryptocurr creat secur cryptograph algorithm maintain confirm process call mine network comput special hardwar applicationspecif integr circuit asic process valid transact the process incentiv miner run network cryptocurr over last year cryptocurr price risen fallen crypto marketplac guarante investor complet purchas trade optim price As result mani investor advantag use arbitrag find differ price across sever market decentr cryptocurr produc entir cryptocurr system collect rate defin system creat publicli state In central bank econom system US feder reserv system corpor board govern control suppli currenc citat need In case decentr cryptocurr compani govern produc new unit far provid back firm bank corpor entiti hold asset valu measur the underli technic system upon decentr cryptocurr base creat group individu known satoshi nakamoto'"
      ]
     },
     "execution_count": 184,
     "metadata": {},
     "output_type": "execute_result"
    }
   ],
   "source": [
    "result = (\" \".join(stem_tokens))\n",
    "result"
   ]
  },
  {
   "cell_type": "code",
   "execution_count": 185,
   "id": "df8c2680",
   "metadata": {},
   "outputs": [
    {
     "data": {
      "text/plain": [
       "1066"
      ]
     },
     "execution_count": 185,
     "metadata": {},
     "output_type": "execute_result"
    }
   ],
   "source": [
    "f = open(\"results.txt\", \"a\")\n",
    "f.write(result)"
   ]
  },
  {
   "cell_type": "code",
   "execution_count": 189,
   "id": "de9e8903",
   "metadata": {},
   "outputs": [],
   "source": [
    "import boto3, os\n",
    "boto3.Session().resource('s3').Bucket(\"myawsbucket658\").Object('results.txt').upload_file('results.txt')"
   ]
  },
  {
   "cell_type": "code",
   "execution_count": 190,
   "id": "2923161e",
   "metadata": {},
   "outputs": [
    {
     "data": {
      "text/plain": [
       "'A cryptocurr encrypt data string denot unit currenc It monitor organ peertop network call blockchain serv secur ledger transact eg buy sell transfer unlik physic money cryptocurr decentr mean issu govern financi institut cryptocurr creat secur cryptograph algorithm maintain confirm process call mine network comput special hardwar applicationspecif integr circuit asic process valid transact the process incentiv miner run network cryptocurr over last year cryptocurr price risen fallen crypto marketplac guarante investor complet purchas trade optim price As result mani investor advantag use arbitrag find differ price across sever market decentr cryptocurr produc entir cryptocurr system collect rate defin system creat publicli state In central bank econom system US feder reserv system corpor board govern control suppli currenc citat need In case decentr cryptocurr compani govern produc new unit far provid back firm bank corpor entiti hold asset valu measur the underli technic system upon decentr cryptocurr base creat group individu known satoshi nakamoto'"
      ]
     },
     "execution_count": 190,
     "metadata": {},
     "output_type": "execute_result"
    }
   ],
   "source": [
    "obj = s3.get_object(Bucket = 'myawsbucket658',Key = 'results.txt')\n",
    "with io.FileIO('sample.txt', 'w') as file:\n",
    "    for i in obj['Body']:\n",
    "        file.write(i)\n",
    "f = open(\"sample.txt\", \"r\")\n",
    "result_data = f.read()\n",
    "result_data"
   ]
  },
  {
   "cell_type": "code",
   "execution_count": 201,
   "id": "b4ec3ba2",
   "metadata": {},
   "outputs": [
    {
     "data": {
      "text/plain": [
       "'A cryptocurr encrypt data string denot unit currenc It monitor organ peertop network call blockchain serv secur ledger transact eg buy sell transfer unlik physic money cryptocurr decentr mean issu govern financi institut cryptocurr creat secur cryptograph algorithm maintain confirm process call mine network comput special hardwar applicationspecif integr circuit asic process valid transact the process incentiv miner run network cryptocurr over last year cryptocurr price risen fallen crypto marketplac guarante investor complet purchas trade optim price As result mani investor advantag use arbitrag find differ price across sever market decentr cryptocurr produc entir cryptocurr system collect rate defin system creat publicli state In central bank econom system US feder reserv system corpor board govern control suppli currenc citat need In case decentr cryptocurr compani govern produc new unit far provid back firm bank corpor entiti hold asset valu measur the underli technic system upon decentr cryptocurr base creat group individu known satoshi nakamoto'"
      ]
     },
     "execution_count": 201,
     "metadata": {},
     "output_type": "execute_result"
    }
   ],
   "source": [
    "result_data"
   ]
  },
  {
   "cell_type": "code",
   "execution_count": 202,
   "id": "cf8e3f88",
   "metadata": {},
   "outputs": [],
   "source": [
    "from sklearn.preprocessing import LabelEncoder\n",
    "encoder = LabelEncoder()\n",
    "encoded_word = encoder.fit_transform(result_data.split(\" \"))"
   ]
  },
  {
   "cell_type": "code",
   "execution_count": 203,
   "id": "c19195e4",
   "metadata": {},
   "outputs": [],
   "source": [
    "data = encoded_word "
   ]
  },
  {
   "cell_type": "code",
   "execution_count": 204,
   "id": "9e6c6c1d",
   "metadata": {},
   "outputs": [
    {
     "data": {
      "text/plain": [
       "array([  0,  32,  42,  35, 102,  38, 111,  34,   3,  74,  80,  82,  77,\n",
       "        18,  15,  98,  96,  64, 108,  41,  17,  97, 109, 112,  83,  73,\n",
       "        32,  36,  69,  61,  51,  48,  58,  32,  30,  96,  33,   7,  65,\n",
       "        27,  85,  18,  71,  77,  26, 100,  54,   8,  59,  21,  10,  85,\n",
       "       115, 108, 106,  85,  56,  72,  94,  77,  32,  81,  63, 117,  32,\n",
       "        84,  93,  45,  31,  68,  53,  60,  25,  89, 107,  79,  84,   1,\n",
       "        92,  66,  60,   6, 114,   9,  49,  39,  84,   5,  99,  67,  36,\n",
       "        32,  86,  43,  32, 104,  23,  90,  37, 104,  30,  88, 101,   2,\n",
       "        20,  13,  40, 104,   4,  47,  91, 104,  29,  16,  51,  28, 103,\n",
       "        34,  22,  76,   2,  19,  36,  32,  24,  51,  86,  78, 111,  46,\n",
       "        87,  12,  50,  13,  29,  44,  55,  11, 116,  70, 106, 110, 105,\n",
       "       104, 113,  36,  32,  14,  30,  52,  57,  62,  95,  75])"
      ]
     },
     "execution_count": 204,
     "metadata": {},
     "output_type": "execute_result"
    }
   ],
   "source": [
    "data"
   ]
  },
  {
   "cell_type": "code",
   "execution_count": 205,
   "id": "c3c3209d",
   "metadata": {},
   "outputs": [],
   "source": [
    "import numpy as np\n",
    "K = 3\n",
    "class point():\n",
    "    def __init__(self, data):\n",
    "        self.data = data\n",
    "        self.k = np.random.randint(0,K)\n",
    "    \n",
    "    def __repr__(self):\n",
    "        return str({\"data\":self.data, \"k\":self.k})"
   ]
  },
  {
   "cell_type": "code",
   "execution_count": 206,
   "id": "c02ea0e3",
   "metadata": {},
   "outputs": [],
   "source": [
    "points = [point(d) for d in data]"
   ]
  },
  {
   "cell_type": "code",
   "execution_count": 207,
   "id": "9f5a2aa8",
   "metadata": {},
   "outputs": [],
   "source": [
    "from collections import defaultdict\n",
    "def make_k_mapping(points):\n",
    "    point_dict = defaultdict(list)\n",
    "    for p in points:\n",
    "        point_dict[p.k] = point_dict[p.k] + [p.data]\n",
    "    return point_dict"
   ]
  },
  {
   "cell_type": "code",
   "execution_count": 208,
   "id": "476539de",
   "metadata": {},
   "outputs": [],
   "source": [
    "def calc_k_means(point_dict):\n",
    "    means = [np.mean(point_dict[k],axis=0) for k in range(K)]\n",
    "    return means"
   ]
  },
  {
   "cell_type": "code",
   "execution_count": 209,
   "id": "66d29f5a",
   "metadata": {},
   "outputs": [],
   "source": [
    "def update_k(points,means):\n",
    "    for p in points:   \n",
    "        dists = [np.linalg.norm(means[k]-p.data) for k in range(K)]\n",
    "        p.k = np.argmin(dists)"
   ]
  },
  {
   "cell_type": "code",
   "execution_count": 210,
   "id": "b1381589",
   "metadata": {},
   "outputs": [],
   "source": [
    "def fit(points, epochs=10):\n",
    "    for e in range(epochs):\n",
    "        point_dict = make_k_mapping(points)\n",
    "        means = calc_k_means(point_dict)\n",
    "        update_k(points, means)\n",
    "    return means, points\n",
    "new_means, new_points = fit(points)"
   ]
  },
  {
   "cell_type": "code",
   "execution_count": 211,
   "id": "bbc91145",
   "metadata": {},
   "outputs": [],
   "source": [
    "def evaluate(points):\n",
    "    point_dict = make_k_mapping(points)\n",
    "    means = calc_k_means(point_dict)\n",
    "    dists = [np.linalg.norm(means[p.k]-p.data) for p in points]\n",
    "    return np.mean(dists)"
   ]
  },
  {
   "cell_type": "code",
   "execution_count": 212,
   "id": "a2bcda62",
   "metadata": {},
   "outputs": [
    {
     "name": "stdout",
     "output_type": "stream",
     "text": [
      "[60.81395348837209, 98.11764705882354, 23.016666666666666]\n"
     ]
    },
    {
     "data": {
      "text/plain": [
       "[{'data': 0, 'k': 2},\n",
       " {'data': 32, 'k': 2},\n",
       " {'data': 42, 'k': 0},\n",
       " {'data': 35, 'k': 2},\n",
       " {'data': 102, 'k': 1},\n",
       " {'data': 38, 'k': 2},\n",
       " {'data': 111, 'k': 1},\n",
       " {'data': 34, 'k': 2},\n",
       " {'data': 3, 'k': 2},\n",
       " {'data': 74, 'k': 0},\n",
       " {'data': 80, 'k': 1},\n",
       " {'data': 82, 'k': 1},\n",
       " {'data': 77, 'k': 0},\n",
       " {'data': 18, 'k': 2},\n",
       " {'data': 15, 'k': 2},\n",
       " {'data': 98, 'k': 1},\n",
       " {'data': 96, 'k': 1},\n",
       " {'data': 64, 'k': 0},\n",
       " {'data': 108, 'k': 1},\n",
       " {'data': 41, 'k': 2},\n",
       " {'data': 17, 'k': 2},\n",
       " {'data': 97, 'k': 1},\n",
       " {'data': 109, 'k': 1},\n",
       " {'data': 112, 'k': 1},\n",
       " {'data': 83, 'k': 1},\n",
       " {'data': 73, 'k': 0},\n",
       " {'data': 32, 'k': 2},\n",
       " {'data': 36, 'k': 2},\n",
       " {'data': 69, 'k': 0},\n",
       " {'data': 61, 'k': 0},\n",
       " {'data': 51, 'k': 0},\n",
       " {'data': 48, 'k': 0},\n",
       " {'data': 58, 'k': 0},\n",
       " {'data': 32, 'k': 2},\n",
       " {'data': 30, 'k': 2},\n",
       " {'data': 96, 'k': 1},\n",
       " {'data': 33, 'k': 2},\n",
       " {'data': 7, 'k': 2},\n",
       " {'data': 65, 'k': 0},\n",
       " {'data': 27, 'k': 2},\n",
       " {'data': 85, 'k': 1},\n",
       " {'data': 18, 'k': 2},\n",
       " {'data': 71, 'k': 0},\n",
       " {'data': 77, 'k': 0},\n",
       " {'data': 26, 'k': 2},\n",
       " {'data': 100, 'k': 1},\n",
       " {'data': 54, 'k': 0},\n",
       " {'data': 8, 'k': 2},\n",
       " {'data': 59, 'k': 0},\n",
       " {'data': 21, 'k': 2},\n",
       " {'data': 10, 'k': 2},\n",
       " {'data': 85, 'k': 1},\n",
       " {'data': 115, 'k': 1},\n",
       " {'data': 108, 'k': 1},\n",
       " {'data': 106, 'k': 1},\n",
       " {'data': 85, 'k': 1},\n",
       " {'data': 56, 'k': 0},\n",
       " {'data': 72, 'k': 0},\n",
       " {'data': 94, 'k': 1},\n",
       " {'data': 77, 'k': 0},\n",
       " {'data': 32, 'k': 2},\n",
       " {'data': 81, 'k': 1},\n",
       " {'data': 63, 'k': 0},\n",
       " {'data': 117, 'k': 1},\n",
       " {'data': 32, 'k': 2},\n",
       " {'data': 84, 'k': 1},\n",
       " {'data': 93, 'k': 1},\n",
       " {'data': 45, 'k': 0},\n",
       " {'data': 31, 'k': 2},\n",
       " {'data': 68, 'k': 0},\n",
       " {'data': 53, 'k': 0},\n",
       " {'data': 60, 'k': 0},\n",
       " {'data': 25, 'k': 2},\n",
       " {'data': 89, 'k': 1},\n",
       " {'data': 107, 'k': 1},\n",
       " {'data': 79, 'k': 0},\n",
       " {'data': 84, 'k': 1},\n",
       " {'data': 1, 'k': 2},\n",
       " {'data': 92, 'k': 1},\n",
       " {'data': 66, 'k': 0},\n",
       " {'data': 60, 'k': 0},\n",
       " {'data': 6, 'k': 2},\n",
       " {'data': 114, 'k': 1},\n",
       " {'data': 9, 'k': 2},\n",
       " {'data': 49, 'k': 0},\n",
       " {'data': 39, 'k': 2},\n",
       " {'data': 84, 'k': 1},\n",
       " {'data': 5, 'k': 2},\n",
       " {'data': 99, 'k': 1},\n",
       " {'data': 67, 'k': 0},\n",
       " {'data': 36, 'k': 2},\n",
       " {'data': 32, 'k': 2},\n",
       " {'data': 86, 'k': 1},\n",
       " {'data': 43, 'k': 0},\n",
       " {'data': 32, 'k': 2},\n",
       " {'data': 104, 'k': 1},\n",
       " {'data': 23, 'k': 2},\n",
       " {'data': 90, 'k': 1},\n",
       " {'data': 37, 'k': 2},\n",
       " {'data': 104, 'k': 1},\n",
       " {'data': 30, 'k': 2},\n",
       " {'data': 88, 'k': 1},\n",
       " {'data': 101, 'k': 1},\n",
       " {'data': 2, 'k': 2},\n",
       " {'data': 20, 'k': 2},\n",
       " {'data': 13, 'k': 2},\n",
       " {'data': 40, 'k': 2},\n",
       " {'data': 104, 'k': 1},\n",
       " {'data': 4, 'k': 2},\n",
       " {'data': 47, 'k': 0},\n",
       " {'data': 91, 'k': 1},\n",
       " {'data': 104, 'k': 1},\n",
       " {'data': 29, 'k': 2},\n",
       " {'data': 16, 'k': 2},\n",
       " {'data': 51, 'k': 0},\n",
       " {'data': 28, 'k': 2},\n",
       " {'data': 103, 'k': 1},\n",
       " {'data': 34, 'k': 2},\n",
       " {'data': 22, 'k': 2},\n",
       " {'data': 76, 'k': 0},\n",
       " {'data': 2, 'k': 2},\n",
       " {'data': 19, 'k': 2},\n",
       " {'data': 36, 'k': 2},\n",
       " {'data': 32, 'k': 2},\n",
       " {'data': 24, 'k': 2},\n",
       " {'data': 51, 'k': 0},\n",
       " {'data': 86, 'k': 1},\n",
       " {'data': 78, 'k': 0},\n",
       " {'data': 111, 'k': 1},\n",
       " {'data': 46, 'k': 0},\n",
       " {'data': 87, 'k': 1},\n",
       " {'data': 12, 'k': 2},\n",
       " {'data': 50, 'k': 0},\n",
       " {'data': 13, 'k': 2},\n",
       " {'data': 29, 'k': 2},\n",
       " {'data': 44, 'k': 0},\n",
       " {'data': 55, 'k': 0},\n",
       " {'data': 11, 'k': 2},\n",
       " {'data': 116, 'k': 1},\n",
       " {'data': 70, 'k': 0},\n",
       " {'data': 106, 'k': 1},\n",
       " {'data': 110, 'k': 1},\n",
       " {'data': 105, 'k': 1},\n",
       " {'data': 104, 'k': 1},\n",
       " {'data': 113, 'k': 1},\n",
       " {'data': 36, 'k': 2},\n",
       " {'data': 32, 'k': 2},\n",
       " {'data': 14, 'k': 2},\n",
       " {'data': 30, 'k': 2},\n",
       " {'data': 52, 'k': 0},\n",
       " {'data': 57, 'k': 0},\n",
       " {'data': 62, 'k': 0},\n",
       " {'data': 95, 'k': 1},\n",
       " {'data': 75, 'k': 0}]"
      ]
     },
     "execution_count": 212,
     "metadata": {},
     "output_type": "execute_result"
    }
   ],
   "source": [
    "print(new_means)\n",
    "new_points"
   ]
  }
 ],
 "metadata": {
  "kernelspec": {
   "display_name": "conda_python3",
   "language": "python",
   "name": "conda_python3"
  },
  "language_info": {
   "codemirror_mode": {
    "name": "ipython",
    "version": 3
   },
   "file_extension": ".py",
   "mimetype": "text/x-python",
   "name": "python",
   "nbconvert_exporter": "python",
   "pygments_lexer": "ipython3",
   "version": "3.6.13"
  }
 },
 "nbformat": 4,
 "nbformat_minor": 5
}
