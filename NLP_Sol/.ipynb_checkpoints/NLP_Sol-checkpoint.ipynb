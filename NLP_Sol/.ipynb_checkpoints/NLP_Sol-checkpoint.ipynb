{
 "cells": [
  {
   "cell_type": "markdown",
   "metadata": {
    "colab_type": "text",
    "id": "view-in-github"
   },
   "source": [
    "<a href=\"https://colab.research.google.com/github/Niranjan-Kumar2001/Exercise/blob/main/parser%20expression/parser_expression.ipynb\" target=\"_parent\"><img src=\"https://colab.research.google.com/assets/colab-badge.svg\" alt=\"Open In Colab\"/></a>"
   ]
  },
  {
   "cell_type": "code",
   "execution_count": null,
   "metadata": {
    "id": "hTnIHQd2KX8f"
   },
   "outputs": [],
   "source": [
    "import regex"
   ]
  },
  {
   "cell_type": "markdown",
   "metadata": {
    "id": "Wmp-Jje6NjfV"
   },
   "source": [
    "# **Note:we are uploading the files onto the colab files and puts its path such \"/content/file1.txt\" into it **"
   ]
  },
  {
   "cell_type": "code",
   "execution_count": null,
   "metadata": {
    "colab": {
     "base_uri": "https://localhost:8080/"
    },
    "id": "pmYX-Ui-KBTj",
    "outputId": "f093a1f3-3529-4ec5-c715-05e39070af75"
   },
   "outputs": [
    {
     "name": "stdout",
     "output_type": "stream",
     "text": [
      "/content/file5.txt\n",
      "rome ceaser ant antt each-other emma the sea under the moon over the sea\n",
      "\n",
      "20-11-21 23/03/2020 04/12/12\n",
      "\n",
      "first second third last middle\n",
      "\n",
      "1st to 3rd medals  £20000$ $£21\n"
     ]
    }
   ],
   "source": [
    "#getting the file name or address and opening and reading the content and storing it in text variable\n",
    "fname = input('')\n",
    "f = open(fname, \"r\")\n",
    "text = f.read()\n",
    "\n",
    "print(text)"
   ]
  },
  {
   "cell_type": "code",
   "execution_count": null,
   "metadata": {
    "colab": {
     "base_uri": "https://localhost:8080/"
    },
    "id": "47EQdkwUKBWU",
    "outputId": "daaa9f50-8a7d-4db8-b257-02620c6f2d00"
   },
   "outputs": [
    {
     "name": "stdout",
     "output_type": "stream",
     "text": [
      "['£20000', '£21']\n"
     ]
    }
   ],
   "source": [
    "#for getting the money that is the number after $(dollar),£(pound),₹(rupees)\n",
    "currency='([$£₹][.\\s]?[0-9]+\\.?[0-9]*)'\n",
    "print(regex.findall(currency,text))"
   ]
  },
  {
   "cell_type": "code",
   "execution_count": null,
   "metadata": {
    "colab": {
     "base_uri": "https://localhost:8080/"
    },
    "id": "jsuu8sQiKBYb",
    "outputId": "4bbb8d8f-bc6d-4c5c-ebc7-67d544f8ca58"
   },
   "outputs": [
    {
     "name": "stdout",
     "output_type": "stream",
     "text": [
      "['23/03/2020', '04/12/12']\n"
     ]
    }
   ],
   "source": [
    "#for getting dates in dd/mm/yyyy or dd/mm/yy format\n",
    "date = '[0-9][0-9]\\/[0-9][0-9]\\/[0-9][0-9][0-9][0-9]|[0-9][0-9]\\/[0-9][0-9]\\/[0-9][0-9]'\n",
    "print(regex.findall(date,text))"
   ]
  },
  {
   "cell_type": "code",
   "execution_count": null,
   "metadata": {
    "colab": {
     "base_uri": "https://localhost:8080/"
    },
    "id": "vxGGI08fKBa8",
    "outputId": "c01df5bd-c618-4487-f75e-db05e2208cf6"
   },
   "outputs": [
    {
     "name": "stdout",
     "output_type": "stream",
     "text": [
      "['first', 'second', 'third', '1st', '3rd']\n"
     ]
    }
   ],
   "source": [
    "#Getting cardinilities forms such as first second ..\n",
    "\n",
    "cardinilities =('1st|2nd|3rd|[4-9]+th|[1-9][0-9]+th|first|second|third|tw(?:elfth|entieth)|thirt(?:eenth|ieth|ird)|four(?:teenth|th|tieth)|fift(?:eenth|ieth|h)|six(?:teenth|th|tieth)|seven(?:teenth|th|tieth)|eight(?:eenth|h|ieth)|nine(?:teenth|tieth|th)|tenth|eleventh|fortieth|hundreth|thousandth')\n",
    "print(regex.findall(cardinilities,text))"
   ]
  },
  {
   "cell_type": "code",
   "execution_count": null,
   "metadata": {
    "colab": {
     "base_uri": "https://localhost:8080/"
    },
    "id": "yvU-KgbIKmUl",
    "outputId": "68fdaa69-94d8-4f12-de24-172d2d51ff63"
   },
   "outputs": [
    {
     "name": "stdout",
     "output_type": "stream",
     "text": [
      "[' antt ', ' emma ', ' over ']\n"
     ]
    }
   ],
   "source": [
    "#Getting 4 letter words starting with vowels\n",
    "vowel = '\\s[aeiou][a-zA-Z]{3}\\s|\\s[AEIOU][a-zA-Z]{3}\\s'\n",
    "print(regex.findall(vowel,text))"
   ]
  }
 ],
 "metadata": {
  "colab": {
   "authorship_tag": "ABX9TyM2lVP8jS2DD7E454S61MU9",
   "collapsed_sections": [],
   "include_colab_link": true,
   "name": "Untitled36.ipynb",
   "provenance": []
  },
  "kernelspec": {
   "display_name": "Python 3 (ipykernel)",
   "language": "python",
   "name": "python3"
  },
  "language_info": {
   "codemirror_mode": {
    "name": "ipython",
    "version": 3
   },
   "file_extension": ".py",
   "mimetype": "text/x-python",
   "name": "python",
   "nbconvert_exporter": "python",
   "pygments_lexer": "ipython3",
   "version": "3.9.7"
  }
 },
 "nbformat": 4,
 "nbformat_minor": 1
}
