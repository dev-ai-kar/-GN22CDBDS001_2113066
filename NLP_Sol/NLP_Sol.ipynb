{
 "cells": [
  {
   "cell_type": "code",
   "execution_count": 1,
   "metadata": {
    "id": "hTnIHQd2KX8f"
   },
   "outputs": [],
   "source": [
    "import regex"
   ]
  },
  {
   "cell_type": "code",
   "execution_count": 3,
   "metadata": {
    "colab": {
     "base_uri": "https://localhost:8080/"
    },
    "id": "pmYX-Ui-KBTj",
    "outputId": "f093a1f3-3529-4ec5-c715-05e39070af75"
   },
   "outputs": [
    {
     "name": "stdout",
     "output_type": "stream",
     "text": [
      "text1.txt\n",
      "$135, â‚¹68.11, Â£45.1\n",
      "30/11/2001 11/11/11\n",
      "\n",
      "20/03/20 29/11/2001 21/4/2020 1/30/01\n",
      "7th, tenth, sixth, 1st, 3rd, nineteenth, fifth\n",
      "even or odd\n",
      "Anti, Ears, Easy, Hello, How,\n",
      "Owl , iron\n",
      "$1010, â‚¹10.11, Â£195.1\n",
      "\n"
     ]
    }
   ],
   "source": [
    "#getting the file name or address and opening and reading the content and storing it in text variable\n",
    "fname = input('')\n",
    "f = open(fname, \"r\")\n",
    "text = f.read()\n",
    "\n",
    "print(text)"
   ]
  },
  {
   "cell_type": "code",
   "execution_count": 4,
   "metadata": {
    "colab": {
     "base_uri": "https://localhost:8080/"
    },
    "id": "47EQdkwUKBWU",
    "outputId": "daaa9f50-8a7d-4db8-b257-02620c6f2d00"
   },
   "outputs": [
    {
     "name": "stdout",
     "output_type": "stream",
     "text": [
      "['$135', '£45.1', '$1010', '£195.1']\n"
     ]
    }
   ],
   "source": [
    "#for getting the money that is the number after $(dollar),£(pound),₹(rupees)\n",
    "currency='([$£₹][.\\s]?[0-9]+\\.?[0-9]*)'\n",
    "print(regex.findall(currency,text))"
   ]
  },
  {
   "cell_type": "code",
   "execution_count": 5,
   "metadata": {
    "colab": {
     "base_uri": "https://localhost:8080/"
    },
    "id": "jsuu8sQiKBYb",
    "outputId": "4bbb8d8f-bc6d-4c5c-ebc7-67d544f8ca58"
   },
   "outputs": [
    {
     "name": "stdout",
     "output_type": "stream",
     "text": [
      "['30/11/2001', '11/11/11', '20/03/20', '29/11/2001']\n"
     ]
    }
   ],
   "source": [
    "#for getting dates in dd/mm/yyyy or dd/mm/yy format\n",
    "date = '[0-9][0-9]\\/[0-9][0-9]\\/[0-9][0-9][0-9][0-9]|[0-9][0-9]\\/[0-9][0-9]\\/[0-9][0-9]'\n",
    "print(regex.findall(date,text))"
   ]
  },
  {
   "cell_type": "code",
   "execution_count": 6,
   "metadata": {
    "colab": {
     "base_uri": "https://localhost:8080/"
    },
    "id": "vxGGI08fKBa8",
    "outputId": "c01df5bd-c618-4487-f75e-db05e2208cf6"
   },
   "outputs": [
    {
     "name": "stdout",
     "output_type": "stream",
     "text": [
      "['7th', 'tenth', 'sixth', '1st', '3rd', 'nineteenth', 'fifth']\n"
     ]
    }
   ],
   "source": [
    "#Getting cardinilities forms such as first second ..\n",
    "\n",
    "cardinilities =('1st|2nd|3rd|[4-9]+th|[1-9][0-9]+th|first|second|third|tw(?:elfth|entieth)|thirt(?:eenth|ieth|ird)|four(?:teenth|th|tieth)|fift(?:eenth|ieth|h)|six(?:teenth|th|tieth)|seven(?:teenth|th|tieth)|eight(?:eenth|h|ieth)|nine(?:teenth|tieth|th)|tenth|eleventh|fortieth|hundreth|thousandth')\n",
    "print(regex.findall(cardinilities,text))"
   ]
  },
  {
   "cell_type": "code",
   "execution_count": 7,
   "metadata": {
    "colab": {
     "base_uri": "https://localhost:8080/"
    },
    "id": "yvU-KgbIKmUl",
    "outputId": "68fdaa69-94d8-4f12-de24-172d2d51ff63"
   },
   "outputs": [
    {
     "name": "stdout",
     "output_type": "stream",
     "text": [
      "['\\neven ', ' iron\\n']\n"
     ]
    }
   ],
   "source": [
    "#Getting 4 letter words starting with vowels\n",
    "vowel = '\\s[aeiou][a-zA-Z]{3}\\s|\\s[AEIOU][a-zA-Z]{3}\\s'\n",
    "print(regex.findall(vowel,text))"
   ]
  },
  {
   "cell_type": "code",
   "execution_count": null,
   "metadata": {},
   "outputs": [],
   "source": []
  }
 ],
 "metadata": {
  "colab": {
   "authorship_tag": "ABX9TyM2lVP8jS2DD7E454S61MU9",
   "collapsed_sections": [],
   "include_colab_link": true,
   "name": "Untitled36.ipynb",
   "provenance": []
  },
  "kernelspec": {
   "display_name": "Python 3 (ipykernel)",
   "language": "python",
   "name": "python3"
  },
  "language_info": {
   "codemirror_mode": {
    "name": "ipython",
    "version": 3
   },
   "file_extension": ".py",
   "mimetype": "text/x-python",
   "name": "python",
   "nbconvert_exporter": "python",
   "pygments_lexer": "ipython3",
   "version": "3.9.7"
  }
 },
 "nbformat": 4,
 "nbformat_minor": 1
}
